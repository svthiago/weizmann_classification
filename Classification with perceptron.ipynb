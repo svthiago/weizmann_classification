{
 "cells": [
  {
   "cell_type": "code",
   "execution_count": 1,
   "metadata": {},
   "outputs": [
    {
     "ename": "ImportError",
     "evalue": "numpy.core.multiarray failed to import",
     "output_type": "error",
     "traceback": [
      "\u001b[0;31m---------------------------------------------------------------------------\u001b[0m",
      "\u001b[0;31mImportError\u001b[0m                               Traceback (most recent call last)",
      "\u001b[0;31mImportError\u001b[0m: numpy.core.multiarray failed to import"
     ]
    },
    {
     "ename": "ImportError",
     "evalue": "numpy.core.multiarray failed to import",
     "output_type": "error",
     "traceback": [
      "\u001b[0;31m---------------------------------------------------------------------------\u001b[0m",
      "\u001b[0;31mImportError\u001b[0m                               Traceback (most recent call last)",
      "\u001b[0;32m<ipython-input-1-b14936cf8b79>\u001b[0m in \u001b[0;36m<module>\u001b[0;34m\u001b[0m\n\u001b[1;32m      6\u001b[0m \u001b[0;32mimport\u001b[0m \u001b[0mre\u001b[0m\u001b[0;34m\u001b[0m\u001b[0;34m\u001b[0m\u001b[0m\n\u001b[1;32m      7\u001b[0m \u001b[0;34m\u001b[0m\u001b[0m\n\u001b[0;32m----> 8\u001b[0;31m \u001b[0;32mimport\u001b[0m \u001b[0mcv2\u001b[0m\u001b[0;34m\u001b[0m\u001b[0;34m\u001b[0m\u001b[0m\n\u001b[0m\u001b[1;32m      9\u001b[0m \u001b[0;32mimport\u001b[0m \u001b[0mnumpy\u001b[0m \u001b[0;32mas\u001b[0m \u001b[0mnp\u001b[0m\u001b[0;34m\u001b[0m\u001b[0;34m\u001b[0m\u001b[0m\n\u001b[1;32m     10\u001b[0m \u001b[0;32mfrom\u001b[0m \u001b[0mtqdm\u001b[0m \u001b[0;32mimport\u001b[0m \u001b[0mtqdm\u001b[0m\u001b[0;34m\u001b[0m\u001b[0;34m\u001b[0m\u001b[0m\n",
      "\u001b[0;32m~/.local/lib/python3.6/site-packages/cv2/__init__.py\u001b[0m in \u001b[0;36m<module>\u001b[0;34m\u001b[0m\n\u001b[1;32m      1\u001b[0m \u001b[0;32mimport\u001b[0m \u001b[0mimportlib\u001b[0m\u001b[0;34m\u001b[0m\u001b[0;34m\u001b[0m\u001b[0m\n\u001b[1;32m      2\u001b[0m \u001b[0;34m\u001b[0m\u001b[0m\n\u001b[0;32m----> 3\u001b[0;31m \u001b[0;32mfrom\u001b[0m \u001b[0;34m.\u001b[0m\u001b[0mcv2\u001b[0m \u001b[0;32mimport\u001b[0m \u001b[0;34m*\u001b[0m\u001b[0;34m\u001b[0m\u001b[0;34m\u001b[0m\u001b[0m\n\u001b[0m\u001b[1;32m      4\u001b[0m \u001b[0;32mfrom\u001b[0m \u001b[0;34m.\u001b[0m\u001b[0mdata\u001b[0m \u001b[0;32mimport\u001b[0m \u001b[0;34m*\u001b[0m\u001b[0;34m\u001b[0m\u001b[0;34m\u001b[0m\u001b[0m\n\u001b[1;32m      5\u001b[0m \u001b[0;34m\u001b[0m\u001b[0m\n",
      "\u001b[0;31mImportError\u001b[0m: numpy.core.multiarray failed to import"
     ]
    }
   ],
   "source": [
    "from collections import defaultdict\n",
    "from math import ceil\n",
    "import random\n",
    "import sys\n",
    "import os\n",
    "import re\n",
    "\n",
    "import cv2\n",
    "import numpy as np\n",
    "from tqdm import tqdm\n",
    "from loguru import logger\n",
    "from natsort import natsorted\n",
    "import matplotlib.pyplot as plt\n",
    "\n",
    "from keras.models import Model, load_model\n",
    "from keras.callbacks import TensorBoard\n",
    "from keras.models import model_from_json\n",
    "from keras.layers import Input, Conv2D, Dense, MaxPooling2D, UpSampling2D\n",
    "\n",
    "%matplotlib inline"
   ]
  },
  {
   "cell_type": "code",
   "execution_count": 2,
   "metadata": {},
   "outputs": [],
   "source": [
    "dim = 320\n",
    "\n",
    "def get_model(img_width = dim, img_heigth = dim):\n",
    "\n",
    "    input_img = Input(shape=(img_width, img_heigth, 1))\n",
    "    x = Conv2D(16, (3, 3), activation='relu', padding ='same')(input_img)\n",
    "    x = MaxPooling2D((2, 2), padding='same')(x)\n",
    "    x = Conv2D(32, (3, 3), activation='relu', padding ='same')(x)\n",
    "    x = MaxPooling2D((2, 2), padding='same')(x)\n",
    "    x = Conv2D(64, (3, 3), activation='relu', padding ='same')(x)\n",
    "    x = MaxPooling2D((2, 2), padding='same')(x)\n",
    "    x = Conv2D(128, (3, 3), activation='relu', padding ='same')(x)\n",
    "    encoded = MaxPooling2D((2, 2), padding='same')(x)\n",
    "\n",
    "    #6x6x32 -- bottleneck\n",
    "\n",
    "    x = UpSampling2D((2, 2))(encoded)\n",
    "    x = Conv2D(128, (3, 3), activation='relu', padding ='same')(x)\n",
    "    x = UpSampling2D((2, 2))(x)\n",
    "    x = Conv2D(64, (3, 3), activation='relu', padding ='same')(x)\n",
    "    x = UpSampling2D((2, 2))(x)\n",
    "    x = Conv2D(32, (3, 3), activation='relu', padding ='same')(x)\n",
    "    x = UpSampling2D((2, 2))(x)\n",
    "    x = Conv2D(16, (3, 3), activation='relu', padding ='same')(x)\n",
    "    decoded = Conv2D(1, (3, 3), activation='relu', padding ='same')(x)\n",
    "\n",
    "    #Create model\n",
    "    autoencoder = Model(input_img, decoded)\n",
    "\n",
    "    return autoencoder, encoded\n",
    "\n",
    "\n",
    "def load_dataset(path, img_width = dim, img_heigth = dim):\n",
    "    \n",
    "    folders = natsorted(os.listdir(path))\n",
    "\n",
    "    X = []\n",
    "    Y = []\n",
    "    names = []\n",
    "\n",
    "    for folder in folders:\n",
    "\n",
    "        if os.path.isdir(path + folder):\n",
    "            frames = natsorted(os.listdir(path + folder))\n",
    "            logger.debug(\"Loading: \" + folder)\n",
    "\n",
    "            for frame in frames:\n",
    "                # load a new frame\n",
    "                new_frame = cv2.imread(path + folder + \"/\" + frame)\n",
    "\n",
    "                # convert to grayscale\n",
    "                new_frame = cv2.cvtColor(new_frame, cv2.COLOR_RGB2GRAY)\n",
    "                # resize frame\n",
    "                new_frame = cv2.resize(new_frame, (img_width, img_heigth))\n",
    "\n",
    "                X.append(new_frame.astype(\"float16\")/255.)\n",
    "                Y.append(folder)\n",
    "                names.append(frame.split('_')[0])\n",
    "    X = np.array(X).reshape((-1, img_width, img_heigth, 1))\n",
    "\n",
    "    return X, Y\n",
    "\n",
    "# this method load all frame names within the action folders\n",
    "def split_by_person(path, frames, labels, names, sorted_names):\n",
    "\n",
    "    folders = natsorted(os.listdir(path))\n",
    "    persons = []\n",
    "\n",
    "    # regex for detection of the names belonging to each dataset \n",
    "    train_names = re.compile('|'.join(sorted_names[0][2]))\n",
    "    test_names = re.compile('|'.join(sorted_names[1][2]))\n",
    "    eval_names = re.compile('|'.join(sorted_names[2][2]))\n",
    "\n",
    "    train_data = []\n",
    "    train_labels = []\n",
    "    \n",
    "    test_data = []\n",
    "    test_labels = []\n",
    "\n",
    "    eval_data = []\n",
    "    eval_labels = []\n",
    "\n",
    "    for _, frame in zip(tqdm(range(len(frames))), frames):\n",
    "        for label in labels:\n",
    "            for name in names:\n",
    "                if re.match(train_names, name):\n",
    "                    train_data.append(frame)\n",
    "                    train_labels.append(label)\n",
    "                elif re.match(test_names, name):\n",
    "                    test_data.append(frame)\n",
    "                    test_labels.append(label)\n",
    "                elif re.match(eval_names, name):\n",
    "                    eval_data.append(frame)\n",
    "                    eval_labels.append(label)\n",
    "\n",
    "\n",
    "#     train_data = np.array(train_data)\n",
    "#     test_data = np.array(test_data)\n",
    "#     eval_data = np.array(eval_data)\n",
    "\n",
    "\n",
    "    return train_data, train_labels, test_data, test_labels, eval_data, eval_labels"
   ]
  },
  {
   "cell_type": "code",
   "execution_count": 3,
   "metadata": {},
   "outputs": [
    {
     "name": "stdout",
     "output_type": "stream",
     "text": [
      "WARNING:tensorflow:From /home/thiago/.local/lib/python3.7/site-packages/tensorflow/python/framework/op_def_library.py:263: colocate_with (from tensorflow.python.framework.ops) is deprecated and will be removed in a future version.\n",
      "Instructions for updating:\n",
      "Colocations handled automatically by placer.\n",
      "_________________________________________________________________\n",
      "Layer (type)                 Output Shape              Param #   \n",
      "=================================================================\n",
      "input_1 (InputLayer)         (None, 320, 320, 1)       0         \n",
      "_________________________________________________________________\n",
      "conv2d_1 (Conv2D)            (None, 320, 320, 16)      160       \n",
      "_________________________________________________________________\n",
      "max_pooling2d_1 (MaxPooling2 (None, 160, 160, 16)      0         \n",
      "_________________________________________________________________\n",
      "conv2d_2 (Conv2D)            (None, 160, 160, 32)      4640      \n",
      "_________________________________________________________________\n",
      "max_pooling2d_2 (MaxPooling2 (None, 80, 80, 32)        0         \n",
      "_________________________________________________________________\n",
      "conv2d_3 (Conv2D)            (None, 80, 80, 64)        18496     \n",
      "_________________________________________________________________\n",
      "max_pooling2d_3 (MaxPooling2 (None, 40, 40, 64)        0         \n",
      "_________________________________________________________________\n",
      "conv2d_4 (Conv2D)            (None, 40, 40, 128)       73856     \n",
      "_________________________________________________________________\n",
      "max_pooling2d_4 (MaxPooling2 (None, 20, 20, 128)       0         \n",
      "_________________________________________________________________\n",
      "up_sampling2d_1 (UpSampling2 (None, 40, 40, 128)       0         \n",
      "_________________________________________________________________\n",
      "conv2d_5 (Conv2D)            (None, 40, 40, 128)       147584    \n",
      "_________________________________________________________________\n",
      "up_sampling2d_2 (UpSampling2 (None, 80, 80, 128)       0         \n",
      "_________________________________________________________________\n",
      "conv2d_6 (Conv2D)            (None, 80, 80, 64)        73792     \n",
      "_________________________________________________________________\n",
      "up_sampling2d_3 (UpSampling2 (None, 160, 160, 64)      0         \n",
      "_________________________________________________________________\n",
      "conv2d_7 (Conv2D)            (None, 160, 160, 32)      18464     \n",
      "_________________________________________________________________\n",
      "up_sampling2d_4 (UpSampling2 (None, 320, 320, 32)      0         \n",
      "_________________________________________________________________\n",
      "conv2d_8 (Conv2D)            (None, 320, 320, 16)      4624      \n",
      "_________________________________________________________________\n",
      "conv2d_9 (Conv2D)            (None, 320, 320, 1)       145       \n",
      "=================================================================\n",
      "Total params: 341,761\n",
      "Trainable params: 341,761\n",
      "Non-trainable params: 0\n",
      "_________________________________________________________________\n"
     ]
    }
   ],
   "source": [
    "autoencoder, encoded = get_model()\n",
    "autoencoder.load_weights('model.h5')\n",
    "autoencoder.summary()"
   ]
  },
  {
   "cell_type": "code",
   "execution_count": 4,
   "metadata": {},
   "outputs": [
    {
     "name": "stdout",
     "output_type": "stream",
     "text": [
      "_________________________________________________________________\n",
      "Layer (type)                 Output Shape              Param #   \n",
      "=================================================================\n",
      "input_1 (InputLayer)         (None, 320, 320, 1)       0         \n",
      "_________________________________________________________________\n",
      "conv2d_1 (Conv2D)            (None, 320, 320, 16)      160       \n",
      "_________________________________________________________________\n",
      "max_pooling2d_1 (MaxPooling2 (None, 160, 160, 16)      0         \n",
      "_________________________________________________________________\n",
      "conv2d_2 (Conv2D)            (None, 160, 160, 32)      4640      \n",
      "_________________________________________________________________\n",
      "max_pooling2d_2 (MaxPooling2 (None, 80, 80, 32)        0         \n",
      "_________________________________________________________________\n",
      "conv2d_3 (Conv2D)            (None, 80, 80, 64)        18496     \n",
      "_________________________________________________________________\n",
      "max_pooling2d_3 (MaxPooling2 (None, 40, 40, 64)        0         \n",
      "_________________________________________________________________\n",
      "conv2d_4 (Conv2D)            (None, 40, 40, 128)       73856     \n",
      "_________________________________________________________________\n",
      "max_pooling2d_4 (MaxPooling2 (None, 20, 20, 128)       0         \n",
      "=================================================================\n",
      "Total params: 97,152\n",
      "Trainable params: 97,152\n",
      "Non-trainable params: 0\n",
      "_________________________________________________________________\n"
     ]
    }
   ],
   "source": [
    "for _ in range(9):\n",
    "    autoencoder.layers.pop()\n",
    "autoencoder.summary()"
   ]
  },
  {
   "cell_type": "code",
   "execution_count": 5,
   "metadata": {},
   "outputs": [
    {
     "name": "stdout",
     "output_type": "stream",
     "text": [
      "_________________________________________________________________\n",
      "Layer (type)                 Output Shape              Param #   \n",
      "=================================================================\n",
      "input_1 (InputLayer)         (None, 320, 320, 1)       0         \n",
      "_________________________________________________________________\n",
      "conv2d_1 (Conv2D)            (None, 320, 320, 16)      160       \n",
      "_________________________________________________________________\n",
      "max_pooling2d_1 (MaxPooling2 (None, 160, 160, 16)      0         \n",
      "_________________________________________________________________\n",
      "conv2d_2 (Conv2D)            (None, 160, 160, 32)      4640      \n",
      "_________________________________________________________________\n",
      "max_pooling2d_2 (MaxPooling2 (None, 80, 80, 32)        0         \n",
      "_________________________________________________________________\n",
      "conv2d_3 (Conv2D)            (None, 80, 80, 64)        18496     \n",
      "_________________________________________________________________\n",
      "max_pooling2d_3 (MaxPooling2 (None, 40, 40, 64)        0         \n",
      "_________________________________________________________________\n",
      "conv2d_4 (Conv2D)            (None, 40, 40, 128)       73856     \n",
      "_________________________________________________________________\n",
      "max_pooling2d_4 (MaxPooling2 (None, 20, 20, 128)       0         \n",
      "=================================================================\n",
      "Total params: 97,152\n",
      "Trainable params: 97,152\n",
      "Non-trainable params: 0\n",
      "_________________________________________________________________\n"
     ]
    }
   ],
   "source": [
    "autoencoder.summary()"
   ]
  },
  {
   "cell_type": "code",
   "execution_count": 6,
   "metadata": {},
   "outputs": [
    {
     "name": "stderr",
     "output_type": "stream",
     "text": [
      "2019-07-05 18:49:43.689 | DEBUG    | __main__:load_dataset:45 - Loading: bend_subtracted\n",
      "2019-07-05 18:49:45.965 | DEBUG    | __main__:load_dataset:45 - Loading: jack_subtracted\n",
      "2019-07-05 18:49:47.443 | DEBUG    | __main__:load_dataset:45 - Loading: jump_subtracted\n",
      "2019-07-05 18:49:48.345 | DEBUG    | __main__:load_dataset:45 - Loading: pjump_subtracted\n",
      "2019-07-05 18:49:49.381 | DEBUG    | __main__:load_dataset:45 - Loading: run_subtracted\n",
      "2019-07-05 18:49:50.264 | DEBUG    | __main__:load_dataset:45 - Loading: side_subtracted\n",
      "2019-07-05 18:49:51.100 | DEBUG    | __main__:load_dataset:45 - Loading: skip_subtracted\n",
      "2019-07-05 18:49:52.052 | DEBUG    | __main__:load_dataset:45 - Loading: walk_subtracted\n",
      "2019-07-05 18:49:53.431 | DEBUG    | __main__:load_dataset:45 - Loading: wave1_subtracted\n",
      "2019-07-05 18:49:54.726 | DEBUG    | __main__:load_dataset:45 - Loading: wave2_subtracted\n"
     ]
    }
   ],
   "source": [
    "path = './data/'\n",
    "\n",
    "names = [\"daria\", \"denis\", \"eli\", \"ido\", \"ira\", \"lena\", \"lyova\", \"moshe\", \"shahar\"]\n",
    "\n",
    "sorted_names = [('train_list', 0.7, ['ira', 'denis', 'moshe', 'daria', 'lyova', 'ido']),\n",
    "                ('test_list', 0.2, ['lena', 'shahar']),\n",
    "                ('eval_list', 0.1, ['eli'])]\n",
    "\n",
    "frames, labels = load_dataset(path)"
   ]
  },
  {
   "cell_type": "code",
   "execution_count": 7,
   "metadata": {},
   "outputs": [
    {
     "name": "stderr",
     "output_type": "stream",
     "text": [
      "100%|██████████| 5594/5594 [06:39<00:00, 13.21it/s]\n"
     ]
    }
   ],
   "source": [
    "# omitting the labels\n",
    "train_data, _, test_data, _, eval_data, _ = split_by_person(path, frames, labels, names, sorted_names)"
   ]
  },
  {
   "cell_type": "code",
   "execution_count": null,
   "metadata": {},
   "outputs": [],
   "source": [
    "predicted_frames = autoencoder.predict(eval_data)"
   ]
  },
  {
   "cell_type": "code",
   "execution_count": null,
   "metadata": {},
   "outputs": [],
   "source": [
    "np.shape(predicted_frames)"
   ]
  },
  {
   "cell_type": "code",
   "execution_count": null,
   "metadata": {},
   "outputs": [],
   "source": [
    "def compare_results(frames, predicted, n_frames = 5):\n",
    "\n",
    "    columns = 2\n",
    "    fig = plt.figure(figsize=(50,50))\n",
    "\n",
    "    for i in range(0, 2 * n_frames ):\n",
    "        for j in range(0, columns):        \n",
    "            fig.add_subplot(2 * n_frames, columns, i + 1)\n",
    "\n",
    "            if j % 2 == 0:\n",
    "                print('#'*10)\n",
    "                print('frame plotted, index:', i)\n",
    "                plt.imshow(frames[i, : , : , 0], cmap = 'gray')\n",
    "            else:\n",
    "                print('%'*10)\n",
    "                print('predicted frame plotted, index:', i)\n",
    "                plt.imshow(predicted[i, : , : , 0], cmap = 'gray')\n",
    "        \n",
    "    plt.show()\n",
    "    fig.savefig('resultado.png', dpi = fig.dpi)\n",
    "\n",
    "\n",
    "compare_results(eval_data, predicted_frames, 5)"
   ]
  },
  {
   "cell_type": "code",
   "execution_count": null,
   "metadata": {},
   "outputs": [],
   "source": []
  },
  {
   "cell_type": "code",
   "execution_count": null,
   "metadata": {},
   "outputs": [],
   "source": []
  },
  {
   "cell_type": "code",
   "execution_count": null,
   "metadata": {},
   "outputs": [],
   "source": []
  },
  {
   "cell_type": "code",
   "execution_count": null,
   "metadata": {},
   "outputs": [],
   "source": []
  },
  {
   "cell_type": "code",
   "execution_count": null,
   "metadata": {},
   "outputs": [],
   "source": []
  }
 ],
 "metadata": {
  "kernelspec": {
   "display_name": "Python 3",
   "language": "python",
   "name": "python3"
  },
  "language_info": {
   "codemirror_mode": {
    "name": "ipython",
    "version": 3
   },
   "file_extension": ".py",
   "mimetype": "text/x-python",
   "name": "python",
   "nbconvert_exporter": "python",
   "pygments_lexer": "ipython3",
   "version": "3.6.8"
  }
 },
 "nbformat": 4,
 "nbformat_minor": 2
}
